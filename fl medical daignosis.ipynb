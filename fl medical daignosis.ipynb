{
  "cells": [
    {
      "cell_type": "code",
      "source": [
        "!pip install -q flwr tensorflow pandas scikit-learn\n"
      ],
      "metadata": {
        "id": "Pj9osG08Cze_"
      },
      "execution_count": 3,
      "outputs": []
    },
    {
      "cell_type": "code",
      "source": [
        "import pandas as pd\n",
        "import numpy as np\n",
        "from sklearn.model_selection import train_test_split\n",
        "from sklearn.preprocessing import StandardScaler\n",
        "\n",
        "# Cardio dataset\n",
        "cardio_df = pd.read_csv(\"/content/cardio_train.csv\", sep=';')\n",
        "X_cardio = cardio_df.drop(columns=[\"cardio\"])\n",
        "y_cardio = cardio_df[\"cardio\"]\n",
        "X_cardio = StandardScaler().fit_transform(X_cardio)\n",
        "Xc_train, Xc_test, yc_train, yc_test = train_test_split(X_cardio, y_cardio, test_size=0.2)\n",
        "\n",
        "# Breast cancer dataset\n",
        "cancer_df = pd.read_csv(\"/content/breast-cancer.csv\")\n",
        "cancer_df[\"diagnosis\"] = cancer_df[\"diagnosis\"].map({\"M\": 1, \"B\": 0})\n",
        "cancer_df = cancer_df.drop(columns=[\"id\"])\n",
        "X_cancer = cancer_df.drop(columns=[\"diagnosis\"])\n",
        "y_cancer = cancer_df[\"diagnosis\"]\n",
        "X_cancer = StandardScaler().fit_transform(X_cancer)\n",
        "Xb_train, Xb_test, yb_train, yb_test = train_test_split(X_cancer, y_cancer, test_size=0.2)\n"
      ],
      "metadata": {
        "id": "nVoO91qxC7Fl"
      },
      "execution_count": 2,
      "outputs": []
    },
    {
      "cell_type": "code",
      "source": [
        "import tensorflow as tf\n",
        "\n",
        "def create_model(input_dim):\n",
        "    model = tf.keras.Sequential([\n",
        "        tf.keras.layers.Dense(16, activation='relu', input_shape=(input_dim,)),\n",
        "        tf.keras.layers.Dense(8, activation='relu'),\n",
        "        tf.keras.layers.Dense(1, activation='sigmoid')\n",
        "    ])\n",
        "    model.compile(optimizer='adam', loss='binary_crossentropy', metrics=['accuracy'])\n",
        "    return model\n"
      ],
      "metadata": {
        "id": "f1kkBDVRDDea"
      },
      "execution_count": 4,
      "outputs": []
    },
    {
      "cell_type": "code",
      "source": [
        "import flwr as fl\n",
        "\n",
        "class FederatedClient(fl.client.NumPyClient):\n",
        "    def __init__(self, X_train, y_train, X_test, y_test, input_dim):\n",
        "        self.model = create_model(input_dim)\n",
        "        self.X_train = X_train\n",
        "        self.y_train = y_train\n",
        "        self.X_test = X_test\n",
        "        self.y_test = y_test\n",
        "\n",
        "    def get_parameters(self, config=None):\n",
        "        return self.model.get_weights()\n",
        "\n",
        "    def fit(self, parameters, config=None):\n",
        "        self.model.set_weights(parameters)\n",
        "        self.model.fit(self.X_train, self.y_train, epochs=1, batch_size=32, verbose=0)\n",
        "        return self.model.get_weights(), len(self.X_train), {}\n",
        "\n",
        "    def evaluate(self, parameters, config=None):\n",
        "        self.model.set_weights(parameters)\n",
        "        loss, acc = self.model.evaluate(self.X_test, self.y_test, verbose=0)\n",
        "        return loss, len(self.X_test), {\"accuracy\": acc}\n"
      ],
      "metadata": {
        "id": "nI-BfzS3DHar"
      },
      "execution_count": 5,
      "outputs": []
    },
    {
      "source": [
        "from flwr.server.strategy import FedAvg\n",
        "from flwr.server import ServerConfig, start_server\n",
        "\n",
        "# Start server\n",
        "def start_flower_server():\n",
        "    strategy = FedAvg(min_available_clients=2)\n",
        "    config = ServerConfig(num_rounds=3)\n",
        "    start_server(server_address=\"localhost:8081\", config=config, strategy=strategy) # Changed port to 8081"
      ],
      "cell_type": "code",
      "metadata": {
        "id": "H_iK8F0eD9Ha"
      },
      "execution_count": 6,
      "outputs": []
    },
    {
      "source": [
        "def start_client_1():\n",
        "    client1 = FederatedClient(Xc_train, yc_train, Xc_test, yc_test, Xc_train.shape[1])\n",
        "    fl.client.start_numpy_client(server_address=\"localhost:8081\", client=client1) # Changed port to 8081\n",
        "\n",
        "def start_client_2():\n",
        "    client2 = FederatedClient(Xb_train, yb_train, Xb_test, yb_test, Xb_train.shape[1])\n",
        "    fl.client.start_numpy_client(server_address=\"localhost:8081\", client=client2) # Changed port to 8081"
      ],
      "cell_type": "code",
      "metadata": {
        "id": "vrnBdwM8D_Af"
      },
      "execution_count": 7,
      "outputs": []
    },
    {
      "cell_type": "code",
      "source": [
        "import pandas as pd\n",
        "from sklearn.linear_model import LogisticRegression\n",
        "from sklearn.preprocessing import LabelEncoder, StandardScaler\n",
        "from sklearn.metrics import accuracy_score\n",
        "from sklearn.model_selection import train_test_split\n",
        "\n",
        "# Load datasets\n",
        "cardio_df = pd.read_csv(\"/content/cardio_train.csv\", sep=\";\")\n",
        "cancer_df = pd.read_csv(\"/content/breast-cancer.csv\")\n",
        "\n",
        "# ==============================\n",
        "# Preprocess Cancer Dataset\n",
        "# ==============================\n",
        "\n",
        "# Drop ID column and encode diagnosis\n",
        "cancer_df = cancer_df.drop(columns=[\"id\"])\n",
        "cancer_df[\"diagnosis\"] = LabelEncoder().fit_transform(cancer_df[\"diagnosis\"])  # M=1, B=0\n",
        "\n",
        "X_cancer = cancer_df.drop(columns=[\"diagnosis\"])\n",
        "y_cancer = cancer_df[\"diagnosis\"]\n",
        "\n",
        "# Train-test split and scale\n",
        "X_cancer_train, X_cancer_test, y_cancer_train, y_cancer_test = train_test_split(X_cancer, y_cancer, test_size=0.2, random_state=42)\n",
        "scaler_cancer = StandardScaler()\n",
        "X_cancer_train = scaler_cancer.fit_transform(X_cancer_train)\n",
        "X_cancer_test = scaler_cancer.transform(X_cancer_test)\n",
        "\n",
        "# Train model\n",
        "model_cancer = LogisticRegression(max_iter=1000)\n",
        "model_cancer.fit(X_cancer_train, y_cancer_train)\n",
        "preds_cancer = model_cancer.predict(X_cancer_test)\n",
        "acc_cancer = accuracy_score(y_cancer_test, preds_cancer)\n",
        "\n",
        "# ==============================\n",
        "# Preprocess Cardio Dataset\n",
        "# ==============================\n",
        "\n",
        "# Drop irrelevant columns (if any)\n",
        "cardio_df = cardio_df.drop(columns=[\"id\", \"gender\"], errors=\"ignore\")  # drop only if present\n",
        "\n",
        "X_cardio = cardio_df.drop(columns=[\"cardio\"])\n",
        "y_cardio = cardio_df[\"cardio\"]\n",
        "\n",
        "# Train-test split and scale\n",
        "X_cardio_train, X_cardio_test, y_cardio_train, y_cardio_test = train_test_split(X_cardio, y_cardio, test_size=0.2, random_state=42)\n",
        "scaler_cardio = StandardScaler()\n",
        "X_cardio_train = scaler_cardio.fit_transform(X_cardio_train)\n",
        "X_cardio_test = scaler_cardio.transform(X_cardio_test)\n",
        "\n",
        "# Train model\n",
        "model_cardio = LogisticRegression(max_iter=1000)\n",
        "model_cardio.fit(X_cardio_train, y_cardio_train)\n",
        "preds_cardio = model_cardio.predict(X_cardio_test)\n",
        "acc_cardio = accuracy_score(y_cardio_test, preds_cardio)\n",
        "\n",
        "# ==============================\n",
        "# Results\n",
        "# ==============================\n",
        "\n",
        "print(f\"Cancer Dataset Accuracy: {acc_cancer:.4f}\")\n",
        "print(f\"Cardiovascular Dataset Accuracy: {acc_cardio:.4f}\")\n"
      ],
      "metadata": {
        "colab": {
          "base_uri": "https://localhost:8080/"
        },
        "id": "wJu3YvKMFQ7S",
        "outputId": "778e5e88-28c9-4dd1-a76b-1e741c98721e"
      },
      "execution_count": 8,
      "outputs": [
        {
          "output_type": "stream",
          "name": "stdout",
          "text": [
            "Cancer Dataset Accuracy: 0.9737\n",
            "Cardiovascular Dataset Accuracy: 0.7238\n"
          ]
        }
      ]
    }
  ],
  "metadata": {
    "colab": {
      "provenance": [],
      "toc_visible": true
    },
    "kernelspec": {
      "display_name": "Python 3",
      "name": "python3"
    },
    "language_info": {
      "name": "python"
    }
  },
  "nbformat": 4,
  "nbformat_minor": 0
}